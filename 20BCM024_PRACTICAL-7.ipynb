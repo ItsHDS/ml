{
 "cells": [
  {
   "cell_type": "code",
   "execution_count": null,
   "id": "b3096ad2-8bb9-4db4-adbe-b21663f7cc1a",
   "metadata": {},
   "outputs": [],
   "source": [
    "import numpy as np\n",
    "import pandas as pd\n",
    "import seaborn as sns\n",
    "from sklearn.naive_bayes import BernoulliNB\n",
    "from sklearn.naive_bayes import GaussianNB\n",
    "from sklearn.naive_bayes import MultinomialNB\n",
    "from sklearn.metrics import classification_report\n",
    "from sklearn.metrics import accuracy_score\n",
    "from sklearn.model_selection import cross_validate\n",
    "from sklearn.model_selection import train_test_split\n",
    "from sklearn.preprocessing import MinMaxScaler"
   ]
  },
  {
   "cell_type": "code",
   "execution_count": null,
   "id": "70fbc60d-1e5c-4453-9e88-4dd1540e58ef",
   "metadata": {},
   "outputs": [],
   "source": [
    "diabetes = pd.read_csv('Diabetes_Data.csv')\n",
    "diabetes.head()"
   ]
  },
  {
   "cell_type": "code",
   "execution_count": null,
   "id": "e5bce6f1-8ac2-4ddd-a64a-a6b5de3a9580",
   "metadata": {},
   "outputs": [],
   "source": [
    "x = diabetes.drop('diabetes', axis=1)\n",
    "y = diabetes['diabetes']\n",
    "x.shape, y.shape"
   ]
  },
  {
   "cell_type": "code",
   "execution_count": null,
   "id": "6067b86c-3ccb-4a84-810e-11b7c61ef5c8",
   "metadata": {},
   "outputs": [],
   "source": [
    "x_train, x_test, y_train, y_test = train_test_split(x, y, stratify=y, train_size=0.80)\n",
    "x_test, x_valid, y_test, y_valid = train_test_split(x_test, y_test, stratify=y_test, train_size=0.5)\n",
    "x_train.shape, x_test.shape, x_valid.shape, y_train.shape, y_test.shape, y_valid.shape\n",
    "gaussian_nb = GaussianNB()\n",
    "gaussian_nb.fit(x_train, y_train)\n"
   ]
  },
  {
   "cell_type": "code",
   "execution_count": null,
   "id": "528b97b1-5c89-4002-ac60-d37749b3e703",
   "metadata": {},
   "outputs": [],
   "source": [
    "gaussian_cv = cross_validate(estimator=gaussian_nb,\n",
    "                             X=x_valid, y=y_valid,\n",
    "                             scoring='accuracy', cv=5,\n",
    "                             return_train_score=True)\n",
    "gaussian_mean_train_score = round((gaussian_cv['train_score'] * 100).mean(), 3)\n",
    "print(f'Mean train score: {gaussian_mean_train_score}')\n"
   ]
  },
  {
   "cell_type": "code",
   "execution_count": null,
   "id": "e5e9103b",
   "metadata": {},
   "outputs": [],
   "source": [
    "gaussian_mean_test_score = round((gaussian_cv['test_score'] * 100).mean(), 3)\n",
    "print(f'Mean test score: {gaussian_mean_test_score}')"
   ]
  },
  {
   "cell_type": "code",
   "execution_count": null,
   "id": "f72a13a9-5c24-4c9d-af26-a8272cee3ef2",
   "metadata": {},
   "outputs": [],
   "source": [
    "gaussian_predict = gaussian_nb.predict(x_test)\n",
    "print(classification_report(y_test, gaussian_predict))"
   ]
  }
 ],
 "metadata": {
  "kernelspec": {
   "display_name": "Python 3.9.13 64-bit (microsoft store)",
   "language": "python",
   "name": "python3"
  },
  "language_info": {
   "codemirror_mode": {
    "name": "ipython",
    "version": 3
   },
   "file_extension": ".py",
   "mimetype": "text/x-python",
   "name": "python",
   "nbconvert_exporter": "python",
   "pygments_lexer": "ipython3",
   "version": "3.9.13"
  },
  "vscode": {
   "interpreter": {
    "hash": "efa3028dd2d088938c508137e0b1816a748bd502d8e068acf56acd8ebed86d96"
   }
  }
 },
 "nbformat": 4,
 "nbformat_minor": 5
}
