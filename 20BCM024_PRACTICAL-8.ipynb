{
 "cells": [
  {
   "cell_type": "code",
   "execution_count": null,
   "id": "b3096ad2-8bb9-4db4-adbe-b21663f7cc1a",
   "metadata": {},
   "outputs": [],
   "source": [
    "import pandas as pd\n",
    "import numpy as np\n",
    "import matplotlib.pyplot as plt\n",
    "import graphviz\n",
    "import pydot\n",
    "from sklearn.tree import DecisionTreeClassifier\n",
    "from sklearn.metrics import classification_report,confusion_matrix\n",
    "from sklearn.model_selection import train_test_split\n",
    "from IPython.display import Image\n",
    "from sklearn.metrics import accuracy_score\n",
    "from sklearn.tree import export_graphviz\n",
    "from six import StringIO"
   ]
  },
  {
   "cell_type": "code",
   "execution_count": null,
   "id": "70fbc60d-1e5c-4453-9e88-4dd1540e58ef",
   "metadata": {},
   "outputs": [],
   "source": [
    "df = pd.read_csv('IRIS.csv')\n",
    "df.head()\n",
    "X = df.drop('species',axis=1)\n",
    "y = df['species']"
   ]
  },
  {
   "cell_type": "code",
   "execution_count": null,
   "id": "e5bce6f1-8ac2-4ddd-a64a-a6b5de3a9580",
   "metadata": {},
   "outputs": [],
   "source": [
    "X_train, X_test, y_train, y_test = train_test_split (X, y, test_size=0.30)\n",
    "dtree = DecisionTreeClassifier()\n",
    "dtree.fit(X_train,y_train)"
   ]
  },
  {
   "cell_type": "code",
   "execution_count": null,
   "id": "6067b86c-3ccb-4a84-810e-11b7c61ef5c8",
   "metadata": {},
   "outputs": [],
   "source": [
    "y_pred = dtree.predict(X_test)\n",
    "print (\"Accuracy : \",accuracy_score(y_test,y_pred)*100)\n"
   ]
  },
  {
   "cell_type": "code",
   "execution_count": null,
   "id": "528b97b1-5c89-4002-ac60-d37749b3e703",
   "metadata": {},
   "outputs": [],
   "source": [
    "cfMatrix = confusion_matrix(y_test,y_pred)\n",
    "print(cfMatrix)"
   ]
  },
  {
   "cell_type": "code",
   "execution_count": null,
   "id": "e5e9103b",
   "metadata": {},
   "outputs": [],
   "source": [
    "cReport = classification_report(y_test,y_pred)\n",
    "print(cReport)"
   ]
  },
  {
   "cell_type": "code",
   "execution_count": null,
   "id": "f72a13a9-5c24-4c9d-af26-a8272cee3ef2",
   "metadata": {},
   "outputs": [],
   "source": [
    "features = list(df.columns[1:])\n",
    "dot_data = StringIO()\n",
    "export_graphviz(dtree, out_file=dot_data,feature_names=features,class_names=y,filled=True,rounded=True)\n",
    "graph = pydot.graph_from_dot_data(dot_data.getvalue())\n",
    "Image(graph[0].create_png())"
   ]
  }
 ],
 "metadata": {
  "kernelspec": {
   "display_name": "Python 3.9.13 64-bit (microsoft store)",
   "language": "python",
   "name": "python3"
  },
  "language_info": {
   "codemirror_mode": {
    "name": "ipython",
    "version": 3
   },
   "file_extension": ".py",
   "mimetype": "text/x-python",
   "name": "python",
   "nbconvert_exporter": "python",
   "pygments_lexer": "ipython3",
   "version": "3.9.13"
  },
  "vscode": {
   "interpreter": {
    "hash": "efa3028dd2d088938c508137e0b1816a748bd502d8e068acf56acd8ebed86d96"
   }
  }
 },
 "nbformat": 4,
 "nbformat_minor": 5
}
