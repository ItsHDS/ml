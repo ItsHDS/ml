{
  "cells": [
    {
      "cell_type": "code",
      "execution_count": null,
      "metadata": {
        "colab": {
          "base_uri": "https://localhost:8080/"
        },
        "id": "G4aCzRKp3MLC",
        "outputId": "208952dc-b38b-46f1-ccc6-4c3febe1212b"
      },
      "outputs": [],
      "source": [
        "import numpy as np\n",
        "import matplotlib.pyplot as plt\n",
        "import pandas as pd\n",
        "from sklearn.model_selection import train_test_split\n",
        "from sklearn.preprocessing import StandardScaler\n",
        "from sklearn.naive_bayes import BernoulliNB\n",
        "from sklearn.metrics import confusion_matrix\n",
        "from sklearn.metrics import accuracy_score \n",
        "\n",
        "dst = pd.read_csv('Social_Network_Ads.csv')\n",
        "X = dst.iloc[:, [2, 3]].values\n",
        "y = dst.iloc[:, -1].values\n",
        "\n",
        "xtrn, xtst, ytrn, ytst = train_test_split(X, y, test_size = 0.20, random_state = 0)\n",
        "\n",
        "sc = StandardScaler()\n",
        "xtrn = sc.fit_transform(xtrn)\n",
        "xtst = sc.transform(xtst)\n",
        "\n",
        "cls = BernoulliNB()\n",
        "cls.fit(xtrn, ytrn)\n",
        "\n",
        "y_pred = cls.predict(xtst) \n",
        "y_pred\n",
        "\n",
        "cm = confusion_matrix(ytst, y_pred)\n",
        "print (\"Accuracy : \", accuracy_score(ytst, y_pred))\n",
        "print(cm)"
      ]
    },
    {
      "cell_type": "code",
      "execution_count": null,
      "metadata": {
        "colab": {
          "base_uri": "https://localhost:8080/"
        },
        "id": "1fRDpPKm4Q_g",
        "outputId": "eac0f87e-7e63-4b9f-bfd9-719625395b9d"
      },
      "outputs": [],
      "source": [
        "import numpy as np\n",
        "import matplotlib.pyplot as plt\n",
        "import pandas as pd\n",
        "from sklearn.model_selection import train_test_split\n",
        "from sklearn.preprocessing import StandardScaler\n",
        "from sklearn.preprocessing import MinMaxScaler\n",
        "from sklearn.naive_bayes import MultinomialNB\n",
        "from sklearn.metrics import confusion_matrix\n",
        "from sklearn.metrics import accuracy_score \n",
        "\n",
        "dst = pd.read_csv('Social_Network_Ads.csv')\n",
        "X = dst.iloc[:, [2, 3]].values\n",
        "y = dst.iloc[:, -1].values\n",
        "xtrn, xtst, ytrn, ytst = train_test_split(X, y, test_size = 0.20, random_state = 0)\n",
        "\n",
        "sc = StandardScaler()\n",
        "xtrn = sc.fit_transform(xtrn)\n",
        "xtst = sc.transform(xtst)\n",
        "\n",
        "scaler = MinMaxScaler()\n",
        "xtrn = scaler.fit_transform(xtrn)\n",
        "xtst = scaler.transform(xtst)\n",
        "\n",
        "cls = MultinomialNB()\n",
        "cls.fit(xtrn, ytrn)\n",
        "\n",
        "y_pred = cls.predict(xtst) \n",
        "y_pred\n",
        "\n",
        "cm = confusion_matrix(ytst, y_pred)\n",
        "print (\"Accuracy : \", accuracy_score(ytst, y_pred))\n",
        "print(cm)"
      ]
    }
  ],
  "metadata": {
    "colab": {
      "collapsed_sections": [],
      "provenance": []
    },
    "kernelspec": {
      "display_name": "Python 3",
      "name": "python3"
    },
    "language_info": {
      "name": "python"
    }
  },
  "nbformat": 4,
  "nbformat_minor": 0
}
