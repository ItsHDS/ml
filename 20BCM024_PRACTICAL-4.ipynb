{
 "cells": [
  {
   "cell_type": "code",
   "execution_count": 8,
   "metadata": {
    "colab": {
     "base_uri": "https://localhost:8080/"
    },
    "id": "iBNtwDk2XWXN",
    "outputId": "0d04d47c-201d-4985-d1da-fea4211ab09f"
   },
   "outputs": [],
   "source": [
    "import pandas as pd\n",
    "import numpy as np\n",
    "import matplotlib.pyplot as plt\n",
    "import sklearn\n",
    "from sklearn.datasets import load_iris\n",
    "from sklearn.preprocessing import StandardScaler\n",
    "\n",
    "iris = load_iris()\n",
    "\n",
    "iris_instances = pd.DataFrame(iris['data'])\n",
    "iris_instances.columns = iris['feature_names']\n",
    "x = iris_instances\n",
    "\n",
    "standardscaler = StandardScaler()\n",
    "x_scaled = standardscaler.fit_transform(x)\n",
    "# x_scaled\n",
    "\n",
    "y=iris['target']"
   ]
  },
  {
   "cell_type": "code",
   "execution_count": 9,
   "metadata": {
    "colab": {
     "base_uri": "https://localhost:8080/"
    },
    "id": "eTarAq6pXbAu",
    "outputId": "7cde00f8-decd-471c-e13c-d3c39665100b"
   },
   "outputs": [
    {
     "name": "stdout",
     "output_type": "stream",
     "text": [
      "Testing Sample  0.9189029107743125\n",
      "Training Sample 0.9325144870946516\n"
     ]
    }
   ],
   "source": [
    "from sklearn.model_selection import train_test_split\n",
    "from sklearn import linear_model\n",
    "from sklearn.linear_model import LinearRegression, Ridge, Lasso\n",
    "\n",
    "x_train, x_val, y_train, y_val = train_test_split(x_scaled, y, test_size = 0.3, random_state = 10)\n",
    "\n",
    "linearModel = LinearRegression()\n",
    "linearModel.fit(x_train, y_train)\n",
    " \n",
    "# Evaluating the Linear Regression model\n",
    "print(\"Testing Sample \",  linearModel.score(x_val, y_val))\n",
    "print(\"Training Sample\", linearModel.score(x_train, y_train))"
   ]
  },
  {
   "cell_type": "code",
   "execution_count": 10,
   "metadata": {
    "colab": {
     "base_uri": "https://localhost:8080/"
    },
    "id": "h-OOKnPueQ2G",
    "outputId": "e5e4eb6b-f472-4543-94f0-2afc0f77280d"
   },
   "outputs": [
    {
     "data": {
      "text/plain": [
       "Lasso(alpha=0.1)"
      ]
     },
     "execution_count": 10,
     "metadata": {},
     "output_type": "execute_result"
    }
   ],
   "source": [
    "l1_reg=linear_model.Lasso(alpha=0.1)\n",
    "l1_reg.fit(x_train,y_train)\n"
   ]
  },
  {
   "cell_type": "code",
   "execution_count": 11,
   "metadata": {
    "colab": {
     "base_uri": "https://localhost:8080/"
    },
    "id": "YoCPl1bIhKmk",
    "outputId": "eac4e75e-e0d3-45bd-ac64-b54d68decf3b"
   },
   "outputs": [
    {
     "name": "stdout",
     "output_type": "stream",
     "text": [
      "Testing Sample:   0.9152763245013272\n",
      "Training Sample:  0.9097289620243512\n"
     ]
    }
   ],
   "source": [
    "res=l1_reg.score(x_val,y_val)\n",
    "# l1_reg.score(x_train,y_train)\n",
    "# res\n",
    "print(\"Testing Sample:  \",res)\n",
    "print(\"Training Sample: \",l1_reg.score(x_train,y_train))"
   ]
  },
  {
   "cell_type": "code",
   "execution_count": 12,
   "metadata": {
    "colab": {
     "base_uri": "https://localhost:8080/"
    },
    "id": "MJ5ltI4MhqX4",
    "outputId": "bdaa15d9-a4ed-4a34-e1e0-6bbc61dcd76b"
   },
   "outputs": [
    {
     "name": "stdout",
     "output_type": "stream",
     "text": [
      "Testing:  0.8590807335129365\n",
      "Training:  0.8476939221255309\n"
     ]
    }
   ],
   "source": [
    "l2_reg=Ridge(alpha=100)\n",
    "l2_reg.fit(x_train,y_train)\n",
    "print(\"Testing: \",l2_reg.score(x_val,y_val))\n",
    "print(\"Training: \",l2_reg.score(x_train,y_train))"
   ]
  },
  {
   "cell_type": "code",
   "execution_count": null,
   "metadata": {
    "id": "TnvZTEKajVAD"
   },
   "outputs": [],
   "source": []
  }
 ],
 "metadata": {
  "colab": {
   "provenance": []
  },
  "kernelspec": {
   "display_name": "Python 3 (ipykernel)",
   "language": "python",
   "name": "python3"
  },
  "language_info": {
   "codemirror_mode": {
    "name": "ipython",
    "version": 3
   },
   "file_extension": ".py",
   "mimetype": "text/x-python",
   "name": "python",
   "nbconvert_exporter": "python",
   "pygments_lexer": "ipython3",
   "version": "3.9.7"
  }
 },
 "nbformat": 4,
 "nbformat_minor": 1
}
